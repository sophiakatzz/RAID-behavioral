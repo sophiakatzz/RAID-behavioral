{
 "cells": [
  {
   "cell_type": "markdown",
   "id": "ac553b50",
   "metadata": {},
   "source": [
    "# Export risk and ambiguity data\n",
    "\n",
    "This script outputs risk and ambiguity data from MAT files created by the aging scripts.\n",
    "\n",
    "## load libraries"
   ]
  },
  {
   "cell_type": "code",
   "execution_count": 1,
   "id": "a25d8c23",
   "metadata": {},
   "outputs": [],
   "source": [
    "import pandas as pd\n",
    "import numpy as np\n",
    "import scipy.io as sio\n",
    "from glob import glob"
   ]
  },
  {
   "cell_type": "markdown",
   "id": "f398b286",
   "metadata": {},
   "source": [
    "Create a template for the Monetary task"
   ]
  },
  {
   "cell_type": "code",
   "execution_count": 2,
   "id": "897502c7",
   "metadata": {},
   "outputs": [],
   "source": [
    "\n",
    "glober = 'W:\\\\Lab_Projects\\\\R_A_ID\\\\behavioral\\\\RAID_10_to_33_data\\\\RA_GAINS_*.mat'\n",
    "df = pd.DataFrame()\n",
    "df_missing = pd.DataFrame()"
   ]
  },
  {
   "cell_type": "markdown",
   "id": "09a7b84b",
   "metadata": {},
   "source": [
    "The actual data extraction"
   ]
  },
  {
   "cell_type": "code",
   "execution_count": 3,
   "id": "4f30e9f6",
   "metadata": {},
   "outputs": [
    {
     "name": "stdout",
     "output_type": "stream",
     "text": [
      "14\n",
      "26\n"
     ]
    }
   ],
   "source": [
    "for mat_fname in glob(glober):\n",
    "    mat = sio.loadmat(mat_fname) # open the file\n",
    "    sub = mat['Data']['observer'][0][0][0][0] # subject number\n",
    "    try:\n",
    "        vals, risk, ambiguity = [], [], []\n",
    "        for i in range(124):\n",
    "            vals.append(mat['Data']['vals'][0][0][i][0])\n",
    "            risk.append(mat['Data']['probs'][0][0][i][0])\n",
    "            ambiguity.append(mat['Data']['ambigs'][0][0][i][0])\n",
    "\n",
    "        # the selection data in the Datamon is divided into the 4 blocks.\n",
    "        # in each block there are 21 trials.\n",
    "\n",
    "        choice = []\n",
    "        for i in range(4):\n",
    "            for j in range(31):\n",
    "                choice.append(mat['Data']['Summary'][0][0][i][j][0][0])\n",
    "\n",
    "        # create a db with the choices\n",
    "        db = pd.DataFrame({'choice':choice})\n",
    "\n",
    "        # fill the db with values\n",
    "        db['value'] = vals\n",
    "        db['risk'] = risk\n",
    "        db['ambiguity'] = ambiguity\n",
    "        db['sub'] = sub\n",
    "\n",
    "        # replace values from the name to numbers\n",
    "        db['choice'] = db.choice.replace(['Reference'], 0)\n",
    "        db['choice'] = db.choice.replace(['Lottery'], 1)\n",
    "        db['choice'] = db.choice.replace(['None'], np.nan)\n",
    "\n",
    "        # look for catch trials if more than 5 (half) print sub number.\n",
    "        catch = np.nansum(db.choice[db.value < 6])\n",
    "        if catch > 5:\n",
    "            print(sub, catch)\n",
    "        else:\n",
    "            db['catch'] = catch\n",
    "        #if db['choice'][db['choice'] != db['choice']].shape[0]:\n",
    "        #    df_missing = df_missing.append(db)\n",
    "        #else:\n",
    "            # append the subject to the subjects dataframe\n",
    "            df = df.append(db)\n",
    "    except:\n",
    "        print(sub)"
   ]
  },
  {
   "cell_type": "code",
   "execution_count": 4,
   "id": "58a25c6d",
   "metadata": {},
   "outputs": [],
   "source": [
    "# save to csv\n",
    "df.to_csv('Gains.csv')\n",
    "#df_missing.to_csv('mon_missing.csv')"
   ]
  },
  {
   "cell_type": "markdown",
   "id": "4134398f",
   "metadata": {},
   "source": [
    "Same idea only for the loss trials"
   ]
  },
  {
   "cell_type": "code",
   "execution_count": 5,
   "id": "92826609",
   "metadata": {},
   "outputs": [],
   "source": [
    "\n",
    "glober = 'W:\\\\Lab_Projects\\\\R_A_ID\\\\behavioral\\\\RAID_10_to_33_data\\\\RA_LOSS_*.mat'\n",
    "df = pd.DataFrame()\n",
    "df_missing = pd.DataFrame()"
   ]
  },
  {
   "cell_type": "code",
   "execution_count": 6,
   "id": "e1e77d27",
   "metadata": {},
   "outputs": [
    {
     "name": "stdout",
     "output_type": "stream",
     "text": [
      "26\n"
     ]
    }
   ],
   "source": [
    "for mat_fname in glob(glober):\n",
    "    mat = sio.loadmat(mat_fname) # open the file\n",
    "    sub = mat['Data']['observer'][0][0][0][0] # subject number\n",
    "    try:\n",
    "        vals, risk, ambiguity = [], [], []\n",
    "        for i in range(124):\n",
    "            vals.append(mat['Data']['vals'][0][0][i][0])\n",
    "            risk.append(mat['Data']['probs'][0][0][i][0])\n",
    "            ambiguity.append(mat['Data']['ambigs'][0][0][i][0])\n",
    "\n",
    "        # the selection data in the Datamon is divided into the 4 blocks.\n",
    "        # in each block there are 21 trials.\n",
    "\n",
    "        choice = []\n",
    "        for i in range(4):\n",
    "            for j in range(31):\n",
    "                choice.append(mat['Data']['Summary'][0][0][i][j][0][0])\n",
    "\n",
    "        # create a db with the choices\n",
    "        db = pd.DataFrame({'choice':choice})\n",
    "\n",
    "        # fill the db with values\n",
    "        db['value'] = vals\n",
    "        db['risk'] = risk\n",
    "        db['ambiguity'] = ambiguity\n",
    "        db['sub'] = sub\n",
    "\n",
    "        # replace values from the name to numbers\n",
    "        db['choice'] = db.choice.replace(['Reference'], 0)\n",
    "        db['choice'] = db.choice.replace(['Lottery'], 1)\n",
    "        db['choice'] = db.choice.replace(['None'], np.nan)\n",
    "\n",
    "        # look for catch trials if more than 5 (half) print sub number.\n",
    "        catch = np.nansum(db.choice[db.value < 6])\n",
    "        if catch < 5:\n",
    "            print(sub, catch)\n",
    "        else:\n",
    "            db['catch'] = catch\n",
    "        #if db['choice'][db['choice'] != db['choice']].shape[0]:\n",
    "        #    df_missing = df_missing.append(db)\n",
    "        #else:\n",
    "            # append the subject to the subjects dataframe\n",
    "            df = df.append(db)\n",
    "    except:\n",
    "        print(sub)"
   ]
  },
  {
   "cell_type": "code",
   "execution_count": 7,
   "id": "a82c5c83",
   "metadata": {},
   "outputs": [],
   "source": [
    "# save to csv\n",
    "df.to_csv('Loss.csv')\n",
    "#df_missing.to_csv('mon_missing.csv')"
   ]
  }
 ],
 "metadata": {
  "kernelspec": {
   "display_name": "Python 3",
   "language": "python",
   "name": "python3"
  },
  "language_info": {
   "codemirror_mode": {
    "name": "ipython",
    "version": 3
   },
   "file_extension": ".py",
   "mimetype": "text/x-python",
   "name": "python",
   "nbconvert_exporter": "python",
   "pygments_lexer": "ipython3",
   "version": "3.8.8"
  }
 },
 "nbformat": 4,
 "nbformat_minor": 5
}
