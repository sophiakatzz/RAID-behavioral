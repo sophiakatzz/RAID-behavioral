{
 "cells": [
  {
   "cell_type": "code",
   "execution_count": 84,
   "id": "204049cb",
   "metadata": {},
   "outputs": [],
   "source": [
    "import pandas as pd\n",
    "import numpy as np\n",
    "import scipy as sp\n",
    "\n",
    "import matplotlib\n",
    "import matplotlib.pyplot as plt\n",
    "import seaborn as sns\n",
    "from mpl_toolkits.axes_grid1 import make_axes_locatable"
   ]
  },
  {
   "cell_type": "code",
   "execution_count": 85,
   "id": "bbb7babf",
   "metadata": {},
   "outputs": [],
   "source": [
    "import csv"
   ]
  },
  {
   "cell_type": "code",
   "execution_count": 86,
   "id": "a50d305f",
   "metadata": {},
   "outputs": [],
   "source": [
    "db_gain = pd.read_csv(r'C:\\Users\\sk2947\\Documents\\GitHub\\Aging\\RiskandAmbiguity\\RAID\\Gains_f.csv')"
   ]
  },
  {
   "cell_type": "code",
   "execution_count": 87,
   "id": "dbbcde38",
   "metadata": {},
   "outputs": [],
   "source": [
    "db_loss = pd.read_csv(r'C:\\Users\\sk2947\\Documents\\GitHub\\Aging\\RiskandAmbiguity\\RAID\\Loss_f.csv')"
   ]
  },
  {
   "cell_type": "code",
   "execution_count": 88,
   "id": "128f0c3d",
   "metadata": {},
   "outputs": [
    {
     "name": "stdout",
     "output_type": "stream",
     "text": [
      "(2728, 7)\n",
      "(124, 7)\n"
     ]
    }
   ],
   "source": [
    "print(db_gain.shape)\n",
    "db_gain = db_gain[db_gain['sub'] == 32]\n",
    "print(db_gain.shape)"
   ]
  },
  {
   "cell_type": "code",
   "execution_count": 89,
   "id": "84e0a2af",
   "metadata": {},
   "outputs": [
    {
     "name": "stdout",
     "output_type": "stream",
     "text": [
      "(2852, 7)\n",
      "(124, 7)\n"
     ]
    }
   ],
   "source": [
    "print(db_loss.shape)\n",
    "db_loss = db_loss[db_loss['sub'] == 32]\n",
    "print(db_loss.shape)"
   ]
  },
  {
   "cell_type": "code",
   "execution_count": 90,
   "id": "d9b0f09a",
   "metadata": {},
   "outputs": [
    {
     "data": {
      "text/html": [
       "<div>\n",
       "<style scoped>\n",
       "    .dataframe tbody tr th:only-of-type {\n",
       "        vertical-align: middle;\n",
       "    }\n",
       "\n",
       "    .dataframe tbody tr th {\n",
       "        vertical-align: top;\n",
       "    }\n",
       "\n",
       "    .dataframe thead th {\n",
       "        text-align: right;\n",
       "    }\n",
       "</style>\n",
       "<table border=\"1\" class=\"dataframe\">\n",
       "  <thead>\n",
       "    <tr style=\"text-align: right;\">\n",
       "      <th></th>\n",
       "      <th>Unnamed: 0</th>\n",
       "      <th>choice</th>\n",
       "      <th>value</th>\n",
       "      <th>risk</th>\n",
       "      <th>ambiguity</th>\n",
       "      <th>sub</th>\n",
       "      <th>catch</th>\n",
       "    </tr>\n",
       "  </thead>\n",
       "  <tbody>\n",
       "    <tr>\n",
       "      <th>2480</th>\n",
       "      <td>0</td>\n",
       "      <td>0.0</td>\n",
       "      <td>4</td>\n",
       "      <td>0.50</td>\n",
       "      <td>0.00</td>\n",
       "      <td>32</td>\n",
       "      <td>0</td>\n",
       "    </tr>\n",
       "    <tr>\n",
       "      <th>2481</th>\n",
       "      <td>1</td>\n",
       "      <td>1.0</td>\n",
       "      <td>52</td>\n",
       "      <td>0.50</td>\n",
       "      <td>0.50</td>\n",
       "      <td>32</td>\n",
       "      <td>0</td>\n",
       "    </tr>\n",
       "    <tr>\n",
       "      <th>2482</th>\n",
       "      <td>2</td>\n",
       "      <td>1.0</td>\n",
       "      <td>14</td>\n",
       "      <td>0.25</td>\n",
       "      <td>0.00</td>\n",
       "      <td>32</td>\n",
       "      <td>0</td>\n",
       "    </tr>\n",
       "    <tr>\n",
       "      <th>2483</th>\n",
       "      <td>3</td>\n",
       "      <td>1.0</td>\n",
       "      <td>12</td>\n",
       "      <td>0.50</td>\n",
       "      <td>0.24</td>\n",
       "      <td>32</td>\n",
       "      <td>0</td>\n",
       "    </tr>\n",
       "    <tr>\n",
       "      <th>2484</th>\n",
       "      <td>4</td>\n",
       "      <td>1.0</td>\n",
       "      <td>10</td>\n",
       "      <td>0.75</td>\n",
       "      <td>0.00</td>\n",
       "      <td>32</td>\n",
       "      <td>0</td>\n",
       "    </tr>\n",
       "  </tbody>\n",
       "</table>\n",
       "</div>"
      ],
      "text/plain": [
       "      Unnamed: 0  choice  value  risk  ambiguity  sub  catch\n",
       "2480           0     0.0      4  0.50       0.00   32      0\n",
       "2481           1     1.0     52  0.50       0.50   32      0\n",
       "2482           2     1.0     14  0.25       0.00   32      0\n",
       "2483           3     1.0     12  0.50       0.24   32      0\n",
       "2484           4     1.0     10  0.75       0.00   32      0"
      ]
     },
     "execution_count": 90,
     "metadata": {},
     "output_type": "execute_result"
    }
   ],
   "source": [
    "db_gain.head()"
   ]
  },
  {
   "cell_type": "code",
   "execution_count": 91,
   "id": "2d5c35f1",
   "metadata": {},
   "outputs": [
    {
     "data": {
      "text/html": [
       "<div>\n",
       "<style scoped>\n",
       "    .dataframe tbody tr th:only-of-type {\n",
       "        vertical-align: middle;\n",
       "    }\n",
       "\n",
       "    .dataframe tbody tr th {\n",
       "        vertical-align: top;\n",
       "    }\n",
       "\n",
       "    .dataframe thead th {\n",
       "        text-align: right;\n",
       "    }\n",
       "</style>\n",
       "<table border=\"1\" class=\"dataframe\">\n",
       "  <thead>\n",
       "    <tr style=\"text-align: right;\">\n",
       "      <th></th>\n",
       "      <th>Unnamed: 0</th>\n",
       "      <th>choice</th>\n",
       "      <th>value</th>\n",
       "      <th>risk</th>\n",
       "      <th>ambiguity</th>\n",
       "      <th>sub</th>\n",
       "      <th>catch</th>\n",
       "    </tr>\n",
       "  </thead>\n",
       "  <tbody>\n",
       "    <tr>\n",
       "      <th>2604</th>\n",
       "      <td>0</td>\n",
       "      <td>1.0</td>\n",
       "      <td>4</td>\n",
       "      <td>0.50</td>\n",
       "      <td>0.00</td>\n",
       "      <td>32</td>\n",
       "      <td>10</td>\n",
       "    </tr>\n",
       "    <tr>\n",
       "      <th>2605</th>\n",
       "      <td>1</td>\n",
       "      <td>0.0</td>\n",
       "      <td>16</td>\n",
       "      <td>0.25</td>\n",
       "      <td>0.00</td>\n",
       "      <td>32</td>\n",
       "      <td>10</td>\n",
       "    </tr>\n",
       "    <tr>\n",
       "      <th>2606</th>\n",
       "      <td>2</td>\n",
       "      <td>0.0</td>\n",
       "      <td>19</td>\n",
       "      <td>0.50</td>\n",
       "      <td>0.24</td>\n",
       "      <td>32</td>\n",
       "      <td>10</td>\n",
       "    </tr>\n",
       "    <tr>\n",
       "      <th>2607</th>\n",
       "      <td>3</td>\n",
       "      <td>1.0</td>\n",
       "      <td>8</td>\n",
       "      <td>0.25</td>\n",
       "      <td>0.00</td>\n",
       "      <td>32</td>\n",
       "      <td>10</td>\n",
       "    </tr>\n",
       "    <tr>\n",
       "      <th>2608</th>\n",
       "      <td>4</td>\n",
       "      <td>1.0</td>\n",
       "      <td>5</td>\n",
       "      <td>0.50</td>\n",
       "      <td>0.24</td>\n",
       "      <td>32</td>\n",
       "      <td>10</td>\n",
       "    </tr>\n",
       "  </tbody>\n",
       "</table>\n",
       "</div>"
      ],
      "text/plain": [
       "      Unnamed: 0  choice  value  risk  ambiguity  sub  catch\n",
       "2604           0     1.0      4  0.50       0.00   32     10\n",
       "2605           1     0.0     16  0.25       0.00   32     10\n",
       "2606           2     0.0     19  0.50       0.24   32     10\n",
       "2607           3     1.0      8  0.25       0.00   32     10\n",
       "2608           4     1.0      5  0.50       0.24   32     10"
      ]
     },
     "execution_count": 91,
     "metadata": {},
     "output_type": "execute_result"
    }
   ],
   "source": [
    "db_loss.head()"
   ]
  },
  {
   "cell_type": "code",
   "execution_count": null,
   "id": "c14105f6",
   "metadata": {},
   "outputs": [],
   "source": [
    "fig.suptitle('Choices for Values distinguished by R/A', fontsize=16)\n",
    "ax1.set(xlabel=None, ylabel=None, title='Gains Risk')\n",
    "ax2.set(xlabel=None, ylabel=None, title='Gains Ambiguity')\n",
    "ax3.set(xlabel=None, ylabel=None, title='Loss Risk')\n",
    "ax4.set(xlabel=None, ylabel=None, title='Loss Ambiguity')\n",
    "\n",
    "fig = plt.gcf()\n",
    "fig.set_size_inches(12, 8)\n",
    "sns.scatterplot(x='value', y='choice',hue='risk',palette=\"deep\", data=db_gain)\n"
   ]
  },
  {
   "cell_type": "code",
   "execution_count": 114,
   "id": "964aa6ba",
   "metadata": {},
   "outputs": [
    {
     "data": {
      "text/plain": [
       "<AxesSubplot:xlabel='value', ylabel='choice'>"
      ]
     },
     "execution_count": 114,
     "metadata": {},
     "output_type": "execute_result"
    },
    {
     "data": {
      "image/png": "[encoded data removed]",
      "text/plain": [
       "<Figure size 864x576 with 1 Axes>"
      ]
     },
     "metadata": {
      "needs_background": "light"
     },
     "output_type": "display_data"
    }
   ],
   "source": [
    "fig = plt.gcf()\n",
    "fig.set_size_inches(12, 8)\n",
    "sns.scatterplot(x='value', y='choice',hue='risk',palette=\"deep\", data=db_gain)"
   ]
  },
  {
   "cell_type": "code",
   "execution_count": 93,
   "id": "d5107d10",
   "metadata": {
    "scrolled": true
   },
   "outputs": [
    {
     "name": "stderr",
     "output_type": "stream",
     "text": [
      "C:\\Users\\sk2947\\Anaconda3\\lib\\site-packages\\numpy\\lib\\nanfunctions.py:1389: RuntimeWarning: All-NaN slice encountered\n",
      "  result = np.apply_along_axis(_nanquantile_1d, axis, a, q,\n",
      "C:\\Users\\sk2947\\Anaconda3\\lib\\site-packages\\numpy\\lib\\nanfunctions.py:1389: RuntimeWarning: All-NaN slice encountered\n",
      "  result = np.apply_along_axis(_nanquantile_1d, axis, a, q,\n"
     ]
    },
    {
     "data": {
      "text/plain": [
       "<AxesSubplot:xlabel='value', ylabel='choice'>"
      ]
     },
     "execution_count": 93,
     "metadata": {},
     "output_type": "execute_result"
    },
    {
     "data": {
      "image/png": "[encoded data removed]",
      "text/plain": [
       "<Figure size 432x288 with 1 Axes>"
      ]
     },
     "metadata": {
      "needs_background": "light"
     },
     "output_type": "display_data"
    }
   ],
   "source": [
    "sns.regplot(x='value', y='choice',data=db_gain[db_gain['risk']==.25], logistic=True)#, marker=False)\n",
    "sns.regplot(x='value', y='choice',data=db_gain[db_gain['risk']==.5], logistic=True)#, marker=False)\n",
    "sns.regplot(x='value', y='choice',data=db_gain[db_gain['risk']==.75], logistic=True)#, marker=False)"
   ]
  },
  {
   "cell_type": "code",
   "execution_count": 138,
   "id": "da777560",
   "metadata": {
    "scrolled": true
   },
   "outputs": [
    {
     "data": {
      "text/plain": [
       "<AxesSubplot:xlabel='value', ylabel='choice'>"
      ]
     },
     "execution_count": 138,
     "metadata": {},
     "output_type": "execute_result"
    },
    {
     "data": {
      "image/png": "[encoded data removed]",
      "text/plain": [
       "<Figure size 576x432 with 1 Axes>"
      ]
     },
     "metadata": {
      "needs_background": "light"
     },
     "output_type": "display_data"
    }
   ],
   "source": [
    "fig = plt.gcf()\n",
    "fig.set_size_inches(8, 6)\n",
    "sns.scatterplot(x='value', y='choice',hue='risk',palette=\"deep\", data=db_loss)"
   ]
  },
  {
   "cell_type": "code",
   "execution_count": 95,
   "id": "a1310453",
   "metadata": {},
   "outputs": [
    {
     "data": {
      "text/plain": [
       "<AxesSubplot:xlabel='value', ylabel='choice'>"
      ]
     },
     "execution_count": 95,
     "metadata": {},
     "output_type": "execute_result"
    },
    {
     "data": {
      "image/png": "[encoded data removed]",
      "text/plain": [
       "<Figure size 432x288 with 1 Axes>"
      ]
     },
     "metadata": {
      "needs_background": "light"
     },
     "output_type": "display_data"
    }
   ],
   "source": [
    "sns.regplot(x='value', y='choice',data=db_loss[db_loss['risk']==.25])#, logistic=True)#, marker=False)\n",
    "sns.regplot(x='value', y='choice',data=db_loss[db_loss['risk']==.5])#, logistic=True)#, marker=False)\n",
    "sns.regplot(x='value', y='choice',data=db_loss[db_loss['risk']==.75])#, logistic=True)#, marker=False)"
   ]
  },
  {
   "cell_type": "code",
   "execution_count": 119,
   "id": "bb3f74cc",
   "metadata": {},
   "outputs": [
    {
     "data": {
      "text/plain": [
       "<AxesSubplot:xlabel='value', ylabel='choice'>"
      ]
     },
     "execution_count": 119,
     "metadata": {},
     "output_type": "execute_result"
    },
    {
     "data": {
      "image/png": "[encoded data removed]",
      "text/plain": [
       "<Figure size 864x576 with 1 Axes>"
      ]
     },
     "metadata": {
      "needs_background": "light"
     },
     "output_type": "display_data"
    }
   ],
   "source": [
    "fig = plt.gcf()\n",
    "fig.set_size_inches(12, 8)\n",
    "sns.scatterplot(x='value', y='choice',hue='ambiguity', palette=\"deep\", data=db_gain)"
   ]
  },
  {
   "cell_type": "code",
   "execution_count": 97,
   "id": "ffb02dfb",
   "metadata": {},
   "outputs": [
    {
     "name": "stderr",
     "output_type": "stream",
     "text": [
      "C:\\Users\\sk2947\\Anaconda3\\lib\\site-packages\\numpy\\lib\\nanfunctions.py:1389: RuntimeWarning: All-NaN slice encountered\n",
      "  result = np.apply_along_axis(_nanquantile_1d, axis, a, q,\n",
      "C:\\Users\\sk2947\\Anaconda3\\lib\\site-packages\\numpy\\lib\\nanfunctions.py:1389: RuntimeWarning: All-NaN slice encountered\n",
      "  result = np.apply_along_axis(_nanquantile_1d, axis, a, q,\n"
     ]
    },
    {
     "data": {
      "text/plain": [
       "<AxesSubplot:xlabel='value', ylabel='choice'>"
      ]
     },
     "execution_count": 97,
     "metadata": {},
     "output_type": "execute_result"
    },
    {
     "data": {
      "image/png": "[encoded data removed]",
      "text/plain": [
       "<Figure size 432x288 with 1 Axes>"
      ]
     },
     "metadata": {
      "needs_background": "light"
     },
     "output_type": "display_data"
    }
   ],
   "source": [
    "sns.regplot(x='value', y='choice',data=db_gain[db_gain['risk']==.25], logistic=True)#, marker=False)\n",
    "sns.regplot(x='value', y='choice',data=db_gain[db_gain['risk']==.5], logistic=True)#, marker=False)\n",
    "sns.regplot(x='value', y='choice',data=db_gain[db_gain['risk']==.75], logistic=True)#, marker=False)"
   ]
  },
  {
   "cell_type": "code",
   "execution_count": 120,
   "id": "5d8e8a6b",
   "metadata": {},
   "outputs": [
    {
     "data": {
      "text/plain": [
       "<AxesSubplot:xlabel='value', ylabel='choice'>"
      ]
     },
     "execution_count": 120,
     "metadata": {},
     "output_type": "execute_result"
    },
    {
     "data": {
      "image/png": "[encoded data removed]",
      "text/plain": [
       "<Figure size 864x576 with 1 Axes>"
      ]
     },
     "metadata": {
      "needs_background": "light"
     },
     "output_type": "display_data"
    }
   ],
   "source": [
    "fig = plt.gcf()\n",
    "fig.set_size_inches(12, 8)\n",
    "sns.scatterplot(x='value', y='choice',hue='ambiguity', palette=\"deep\", data=db_loss)"
   ]
  },
  {
   "cell_type": "code",
   "execution_count": 9,
   "id": "e9902132",
   "metadata": {
    "scrolled": true
   },
   "outputs": [
    {
     "data": {
      "text/plain": [
       "[]"
      ]
     },
     "execution_count": 9,
     "metadata": {},
     "output_type": "execute_result"
    }
   ],
   "source": [
    "choices = db_gain[['sub','choice']].groupby(['sub']).sum()\n",
    "too_risk_averse = list(choices[choices['choice']<10].index)\n",
    "\n",
    "db_gain = db_gain[~db_gain['sub'].isin(too_risk_averse)]\n",
    "too_risk_averse"
   ]
  },
  {
   "cell_type": "code",
   "execution_count": 10,
   "id": "924dcab9",
   "metadata": {},
   "outputs": [
    {
     "data": {
      "text/plain": [
       "[]"
      ]
     },
     "execution_count": 10,
     "metadata": {},
     "output_type": "execute_result"
    }
   ],
   "source": [
    "choices = db_loss[['sub','choice']].groupby(['sub']).sum()\n",
    "too_risk_averse = list(choices[choices['choice']<10].index)\n",
    "\n",
    "db_loss = db_loss[~db_loss['sub'].isin(too_risk_averse)]\n",
    "too_risk_averse"
   ]
  },
  {
   "cell_type": "code",
   "execution_count": 11,
   "id": "a18a7205",
   "metadata": {},
   "outputs": [
    {
     "name": "stdout",
     "output_type": "stream",
     "text": [
      "total subject in analysis n =  1\n"
     ]
    }
   ],
   "source": [
    "gain_s = list(db_gain['sub'].unique())\n",
    "loss_s = list(db_loss['sub'].unique())\n",
    "\n",
    "db_gain = db_gain[db_gain['sub'].isin(loss_s)]\n",
    "db_loss = db_loss[db_loss['sub'].isin(gain_s)]\n",
    "\n",
    "#age = age[age['sub'].isin(list(db_loss['sub'].unique()))]\n",
    "\n",
    "#list(np.setdiff1d(db_loss['sub'].unique(),db_gain['sub'].unique()))\n",
    "\n",
    "print('total subject in analysis n = ', len(db_loss['sub'].unique()))"
   ]
  },
  {
   "cell_type": "code",
   "execution_count": 12,
   "id": "79330a50",
   "metadata": {},
   "outputs": [],
   "source": [
    "gain_risk = db_gain[db_gain['ambiguity'] == 0][['sub','value','choice']]\n",
    "gain_amb  = db_gain[db_gain['ambiguity'] >  0][['sub','value','choice']]\n",
    "\n",
    "loss_risk = db_loss[db_loss['ambiguity'] == 0][['sub','value','choice']]\n",
    "loss_amb  = db_loss[db_loss['ambiguity'] >  0][['sub','value','choice']]"
   ]
  },
  {
   "cell_type": "code",
   "execution_count": 13,
   "id": "f9f3edc5",
   "metadata": {},
   "outputs": [],
   "source": [
    "gain_risk_unc = db_gain[db_gain['ambiguity'] == 0][['sub','risk','choice']]\n",
    "gain_amb_unc  = db_gain[db_gain['ambiguity'] >  0][['sub','ambiguity','choice']]\n",
    "\n",
    "loss_risk_unc = db_loss[db_loss['ambiguity'] == 0][['sub','risk','choice']]\n",
    "loss_amb_unc  = db_loss[db_loss['ambiguity'] >  0][['sub','ambiguity','choice']]"
   ]
  },
  {
   "cell_type": "code",
   "execution_count": 14,
   "id": "f8cc66e9",
   "metadata": {},
   "outputs": [],
   "source": [
    "unc_cont_gain = db_gain[(db_gain['ambiguity'] == 0) & (db_gain['risk'] == 0.5)][['sub','value','choice']]\n",
    "unc_cont_gain = unc_cont_gain.groupby(['sub','value']).mean()\n",
    "unc_cont_gain.reset_index(inplace=True)\n",
    "\n",
    "unc_cont_loss = db_loss[(db_loss['ambiguity'] == 0) & (db_loss['risk'] == 0.5)][['sub','value','choice']]\n",
    "unc_cont_loss = unc_cont_loss.groupby(['sub','value']).mean()\n",
    "unc_cont_loss.reset_index(inplace=True)"
   ]
  },
  {
   "cell_type": "code",
   "execution_count": 15,
   "id": "d8bcf919",
   "metadata": {},
   "outputs": [],
   "source": [
    "gain_prop_r = gain_risk.groupby(['sub','value']).mean()\n",
    "gain_prop_a = gain_amb.groupby(['sub','value']).mean()\n",
    "loss_prop_r = loss_risk.groupby(['sub','value']).mean()\n",
    "loss_prop_a = loss_amb.groupby(['sub','value']).mean()\n",
    "\n",
    "gain_prop_r.reset_index(inplace=True)\n",
    "gain_prop_a.reset_index(inplace=True)\n",
    "loss_prop_r.reset_index(inplace=True)\n",
    "loss_prop_a.reset_index(inplace=True)"
   ]
  },
  {
   "cell_type": "code",
   "execution_count": 16,
   "id": "f23ff243",
   "metadata": {},
   "outputs": [],
   "source": [
    "gain_prop_a['choice']=gain_prop_a['choice']-unc_cont_gain['choice']\n",
    "loss_prop_a['choice']=loss_prop_a['choice']-unc_cont_loss['choice']"
   ]
  },
  {
   "cell_type": "code",
   "execution_count": 17,
   "id": "f59a7039",
   "metadata": {},
   "outputs": [],
   "source": [
    "gain_prop_unc_r = gain_risk_unc.groupby(['sub','risk']).mean()\n",
    "gain_prop_unc_a = gain_amb_unc.groupby(['sub','ambiguity']).mean()\n",
    "loss_prop_unc_r = loss_risk_unc.groupby(['sub','risk']).mean()\n",
    "loss_prop_unc_a = loss_amb_unc.groupby(['sub','ambiguity']).mean()\n",
    "\n",
    "gain_prop_unc_r.reset_index(inplace=True)\n",
    "gain_prop_unc_a.reset_index(inplace=True)\n",
    "loss_prop_unc_r.reset_index(inplace=True)\n",
    "loss_prop_unc_a.reset_index(inplace=True)"
   ]
  },
  {
   "cell_type": "code",
   "execution_count": 18,
   "id": "f22542a4",
   "metadata": {},
   "outputs": [],
   "source": [
    "gain_cont = gain_prop_unc_r[gain_prop_unc_r['risk']==0.5][['sub','choice']]\n",
    "gain_prop_unc_a = pd.merge(gain_prop_unc_a, gain_cont, on='sub')\n",
    "gain_prop_unc_a['choice'] = gain_prop_unc_a.choice_x-gain_prop_unc_a.choice_y\n",
    "\n",
    "loss_cont = loss_prop_unc_r[loss_prop_unc_r['risk']==0.5][['sub','choice']]\n",
    "loss_prop_unc_a = pd.merge(loss_prop_unc_a, loss_cont, on='sub')\n",
    "loss_prop_unc_a['choice'] = loss_prop_unc_a.choice_x-loss_prop_unc_a.choice_y"
   ]
  },
  {
   "cell_type": "code",
   "execution_count": 19,
   "id": "71eed749",
   "metadata": {},
   "outputs": [],
   "source": [
    "#gain_prop_r = gain_prop_r.merge(age, left_on='sub', right_on='sub')\n",
    "#gain_prop_a = gain_prop_a.merge(age, left_on='sub', right_on='sub')\n",
    "#loss_prop_r = loss_prop_r.merge(age, left_on='sub', right_on='sub')\n",
    "#loss_prop_a = loss_prop_a.merge(age, left_on='sub', right_on='sub')"
   ]
  },
  {
   "cell_type": "code",
   "execution_count": 20,
   "id": "c2be2de7",
   "metadata": {},
   "outputs": [],
   "source": [
    "#gain_prop_unc_r = gain_prop_unc_r.merge(age, left_on='sub', right_on='sub')\n",
    "#gain_prop_unc_a = gain_prop_unc_a.merge(age, left_on='sub', right_on='sub')\n",
    "#loss_prop_unc_r = loss_prop_unc_r.merge(age, left_on='sub', right_on='sub')\n",
    "#loss_prop_unc_a = loss_prop_unc_a.merge(age, left_on='sub', right_on='sub')"
   ]
  },
  {
   "cell_type": "code",
   "execution_count": 21,
   "id": "86dc06a1",
   "metadata": {},
   "outputs": [],
   "source": [
    "#norm = matplotlib.colors.Normalize(vmin=gain_prop_r[\"Age\"].min(), vmax=gain_prop_r[\"Age\"].max())\n",
    "#colors = {}\n",
    "#cmap = sns.diverging_palette(240, 10, as_cmap=True )\n",
    "\n",
    "#for cval in gain_prop_r[\"Age\"]:\n",
    "    #colors.update({cval : cmap(norm(cval))})"
   ]
  },
  {
   "cell_type": "code",
   "execution_count": 139,
   "id": "425d12c4",
   "metadata": {},
   "outputs": [
    {
     "data": {
      "image/png": "[encoded data removed]",
      "text/plain": [
       "<Figure size 1080x720 with 4 Axes>"
      ]
     },
     "metadata": {
      "needs_background": "light"
     },
     "output_type": "display_data"
    }
   ],
   "source": [
    "fig = plt.figure(figsize = (15,10))\n",
    "fig.suptitle('Choice Proportion by Outcome Level', fontsize=16)\n",
    "\n",
    "fig.text(0.5, 0.07, 'Outcome Level', ha='center', fontsize=14)\n",
    "fig.text(0.07, 0.5, 'Choice Proportion', va='center', rotation='vertical', fontsize=14)\n",
    "fig.text(0.5, 0.5, 'Choice Proportion (corrected)', va='center', rotation='vertical', fontsize=14)\n",
    "\n",
    "ax1 = fig.add_subplot(221)  \n",
    "ax2 = fig.add_subplot(222) \n",
    "\n",
    "#divider = make_axes_locatable(plt.gca())\n",
    "#ax_cb = divider.new_horizontal(size=\"5%\", pad=0.05)\n",
    "#fig.add_axes(ax_cb)\n",
    "#cb1 = matplotlib.colorbar.ColorbarBase(ax_cb, cmap=cmap,\n",
    "                                #norm=norm,\n",
    "                                #orientation='vertical')\n",
    "#cb1.set_label('Age')\n",
    "\n",
    "ax3 = fig.add_subplot(223)  \n",
    "ax4 = fig.add_subplot(224)  \n",
    "\n",
    "sns.scatterplot(x = 'value', y = 'choice', data = gain_prop_r, ax = ax1)\n",
    "sns.scatterplot(x = 'value', y = 'choice', data = gain_prop_a , ax = ax2)\n",
    "sns.scatterplot(x = 'value', y = 'choice', data = loss_prop_r , ax = ax3)\n",
    "sns.scatterplot(x = 'value', y = 'choice', data = loss_prop_a , ax = ax4)\n",
    "\n",
    "ax1.set(xlabel=None, ylabel=None, title='Gains Risk')\n",
    "ax2.set(xlabel=None, ylabel=None, title='Gains Ambiguity')\n",
    "ax3.set(xlabel=None, ylabel=None, title='Loss Risk')\n",
    "ax4.set(xlabel=None, ylabel=None, title='Loss Ambiguity')\n",
    "\n",
    "#ax1.legend_.remove()\n",
    "#ax2.legend_.remove()\n",
    "#ax3.legend_.remove()\n",
    "#ax4.legend_.remove()\n",
    "    \n",
    "## create colorbar ##\n",
    "#divider = make_axes_locatable(plt.gca())\n",
    "#ax_cb = divider.new_horizontal(size=\"5%\", pad=0.05)\n",
    "#fig.add_axes(ax_cb)\n",
    "#cb1 = matplotlib.colorbar.ColorbarBase(ax_cb, cmap=cmap,\n",
    "                                #norm=norm,\n",
    "                                #orientation='vertical')\n",
    "#cb1.set_label('Age')\n",
    "plt.show()"
   ]
  },
  {
   "cell_type": "code",
   "execution_count": 135,
   "id": "1828918e",
   "metadata": {
    "scrolled": true
   },
   "outputs": [
    {
     "data": {
      "text/plain": [
       "[Text(0.5, 0, ''),\n",
       " Text(0, 0.5, ''),\n",
       " [Text(0, 0, '24%'), Text(1, 0, '50%'), Text(2, 0, '74%')],\n",
       " Text(0.5, 1.0, 'Loss Ambiguity')]"
      ]
     },
     "execution_count": 135,
     "metadata": {},
     "output_type": "execute_result"
    },
    {
     "data": {
      "image/png": "[encoded data removed]",
      "text/plain": [
       "<Figure size 1080x720 with 4 Axes>"
      ]
     },
     "metadata": {
      "needs_background": "light"
     },
     "output_type": "display_data"
    }
   ],
   "source": [
    "fig = plt.figure(figsize = (15,10))\n",
    "fig.suptitle('Choice Proportion by Uncertainty Level', fontsize=16)\n",
    "\n",
    "#fig.text(0.5, 0.07, 'Outcome Level', ha='center', fontsize=14)\n",
    "fig.text(0.07, 0.5, 'Choice Proportion', va='center', rotation='vertical', fontsize=14)\n",
    "fig.text(0.5, 0.5, 'Choice Proportion (corrected)', va='center', rotation='vertical', fontsize=14)\n",
    "\n",
    "\n",
    "ax1 = fig.add_subplot(221)  \n",
    "ax2 = fig.add_subplot(222)  \n",
    "\n",
    "#divider = make_axes_locatable(plt.gca())\n",
    "#ax_cb = divider.new_horizontal(size=\"5%\", pad=0.05)\n",
    "#fig.add_axes(ax_cb)\n",
    "#cb1 = matplotlib.colorbar.ColorbarBase(ax_cb, cmap=cmap,\n",
    "#                                norm=norm,\n",
    "#                                orientation='vertical')\n",
    "#cb1.set_label('Age')\n",
    "\n",
    "ax3 = fig.add_subplot(223)  \n",
    "ax4 = fig.add_subplot(224)  \n",
    "\n",
    "sns.swarmplot(x = 'risk', y = 'choice', data = gain_prop_unc_r , ax = ax1)\n",
    "sns.swarmplot(x = 'ambiguity', y = 'choice', data = gain_prop_unc_a , ax = ax2)\n",
    "sns.swarmplot(x = 'risk', y = 'choice', data = loss_prop_unc_r , ax = ax3)\n",
    "sns.swarmplot(x = 'ambiguity', y = 'choice', data = loss_prop_unc_a , ax = ax4)\n",
    "\n",
    "ax1.set(xlabel=None, ylabel=None, xticklabels=['25%','50%','75%'], title='Gains Risk')\n",
    "ax2.set(xlabel=None, ylabel=None, xticklabels=['24%','50%','74%'], title='Gains Ambiguity')\n",
    "ax3.set(xlabel=None, ylabel=None, xticklabels=['25%','50%','75%'], title='Loss Risk')\n",
    "ax4.set(xlabel=None, ylabel=None, xticklabels=['24%','50%','74%'], title='Loss Ambiguity')\n",
    "\n",
    "#ax1.legend_.remove()\n",
    "#ax2.legend_.remove()\n",
    "#ax3.legend_.remove()\n",
    "#ax4.legend_.remove()\n",
    "    \n",
    "## create colorbar ##\n",
    "#divider = make_axes_locatable(plt.gca())\n",
    "#ax_cb = divider.new_horizontal(size=\"5%\", pad=0.05)\n",
    "#fig.add_axes(ax_cb)\n",
    "#cb1 = matplotlib.colorbar.ColorbarBase(ax_cb, cmap=cmap,\n",
    "                                #norm=norm,\n",
    "                                #orientation='vertical')\n",
    "#cb1.set_label('Age')\n",
    "#plt.show()\n"
   ]
  },
  {
   "cell_type": "code",
   "execution_count": 106,
   "id": "e3bc4a21",
   "metadata": {},
   "outputs": [],
   "source": [
    "gain_risk_prop = db_gain[(db_gain.choice == 1) & (db_gain.ambiguity == 0)].groupby('sub').count()['choice']/db_gain[(db_gain.ambiguity == 0)].groupby('sub').count()['choice']\n",
    "gain_ambg_prop = db_gain[(db_gain.choice == 1) & (db_gain.ambiguity >  0)].groupby('sub').count()['choice']/db_gain[(db_gain.ambiguity >  0)].groupby('sub').count()['choice']\n",
    "\n",
    "loss_risk_prop = db_loss[(db_loss.choice == 1) & (db_loss.ambiguity == 0)].groupby('sub').count()['choice']/db_loss[(db_loss.ambiguity == 0)].groupby('sub').count()['choice']\n",
    "loss_ambg_prop = db_loss[(db_loss.choice == 1) & (db_loss.ambiguity >  0)].groupby('sub').count()['choice']/db_loss[(db_loss.ambiguity >  0)].groupby('sub').count()['choice']"
   ]
  },
  {
   "cell_type": "code",
   "execution_count": 107,
   "id": "1c5b8cbd",
   "metadata": {},
   "outputs": [],
   "source": [
    "gain_ambg_prop=gain_ambg_prop-list(gain_cont['choice'])\n",
    "loss_ambg_prop=loss_ambg_prop-list(loss_cont['choice'])"
   ]
  },
  {
   "cell_type": "code",
   "execution_count": 108,
   "id": "3ff856b8",
   "metadata": {},
   "outputs": [],
   "source": [
    "prop = pd.DataFrame({'gain_risk' : gain_risk_prop,\n",
    "                     'gain_ambg' : gain_ambg_prop,\n",
    "                     'loss_risk' : loss_risk_prop,\n",
    "                     'loss_ambg' : loss_ambg_prop})\n",
    "prop = prop.fillna(0)"
   ]
  },
  {
   "cell_type": "code",
   "execution_count": 109,
   "id": "9ca510df",
   "metadata": {},
   "outputs": [],
   "source": [
    "#prop = prop.merge(age, left_on='sub', right_on='sub')\n",
    "#prop.head()"
   ]
  },
  {
   "cell_type": "code",
   "execution_count": 110,
   "id": "684b1eb1",
   "metadata": {},
   "outputs": [
    {
     "data": {
      "text/html": [
       "<div>\n",
       "<style scoped>\n",
       "    .dataframe tbody tr th:only-of-type {\n",
       "        vertical-align: middle;\n",
       "    }\n",
       "\n",
       "    .dataframe tbody tr th {\n",
       "        vertical-align: top;\n",
       "    }\n",
       "\n",
       "    .dataframe thead th {\n",
       "        text-align: right;\n",
       "    }\n",
       "</style>\n",
       "<table border=\"1\" class=\"dataframe\">\n",
       "  <thead>\n",
       "    <tr style=\"text-align: right;\">\n",
       "      <th></th>\n",
       "      <th>gain_risk</th>\n",
       "      <th>gain_ambg</th>\n",
       "      <th>loss_risk</th>\n",
       "      <th>loss_ambg</th>\n",
       "    </tr>\n",
       "    <tr>\n",
       "      <th>sub</th>\n",
       "      <th></th>\n",
       "      <th></th>\n",
       "      <th></th>\n",
       "      <th></th>\n",
       "    </tr>\n",
       "  </thead>\n",
       "  <tbody>\n",
       "    <tr>\n",
       "      <th>31</th>\n",
       "      <td>0.57377</td>\n",
       "      <td>-0.094298</td>\n",
       "      <td>0.296875</td>\n",
       "      <td>-0.150862</td>\n",
       "    </tr>\n",
       "  </tbody>\n",
       "</table>\n",
       "</div>"
      ],
      "text/plain": [
       "     gain_risk  gain_ambg  loss_risk  loss_ambg\n",
       "sub                                            \n",
       "31     0.57377  -0.094298   0.296875  -0.150862"
      ]
     },
     "execution_count": 110,
     "metadata": {},
     "output_type": "execute_result"
    }
   ],
   "source": [
    "prop.head()"
   ]
  },
  {
   "cell_type": "code",
   "execution_count": 111,
   "id": "58f16d02",
   "metadata": {},
   "outputs": [
    {
     "ename": "ValueError",
     "evalue": "x and y must have length at least 2.",
     "output_type": "error",
     "traceback": [
      "\u001b[1;31m---------------------------------------------------------------------------\u001b[0m",
      "\u001b[1;31mValueError\u001b[0m                                Traceback (most recent call last)",
      "\u001b[1;32m<ipython-input-111-1c72b179be86>\u001b[0m in \u001b[0;36m<module>\u001b[1;34m\u001b[0m\n\u001b[1;32m----> 1\u001b[1;33m \u001b[0mcorRisk\u001b[0m \u001b[1;33m=\u001b[0m \u001b[0msp\u001b[0m\u001b[1;33m.\u001b[0m\u001b[0mstats\u001b[0m\u001b[1;33m.\u001b[0m\u001b[0mpearsonr\u001b[0m\u001b[1;33m(\u001b[0m\u001b[0mprop\u001b[0m\u001b[1;33m.\u001b[0m\u001b[0mgain_risk\u001b[0m\u001b[1;33m,\u001b[0m \u001b[0mprop\u001b[0m\u001b[1;33m.\u001b[0m\u001b[0mloss_risk\u001b[0m\u001b[1;33m)\u001b[0m\u001b[1;33m\u001b[0m\u001b[1;33m\u001b[0m\u001b[0m\n\u001b[0m\u001b[0;32m      2\u001b[0m \u001b[0mcorAmb\u001b[0m \u001b[1;33m=\u001b[0m \u001b[0msp\u001b[0m\u001b[1;33m.\u001b[0m\u001b[0mstats\u001b[0m\u001b[1;33m.\u001b[0m\u001b[0mpearsonr\u001b[0m\u001b[1;33m(\u001b[0m\u001b[0mprop\u001b[0m\u001b[1;33m.\u001b[0m\u001b[0mgain_ambg\u001b[0m\u001b[1;33m,\u001b[0m \u001b[0mprop\u001b[0m\u001b[1;33m.\u001b[0m\u001b[0mloss_ambg\u001b[0m\u001b[1;33m)\u001b[0m\u001b[1;33m\u001b[0m\u001b[1;33m\u001b[0m\u001b[0m\n\u001b[0;32m      3\u001b[0m \u001b[0mcorGain\u001b[0m \u001b[1;33m=\u001b[0m \u001b[0msp\u001b[0m\u001b[1;33m.\u001b[0m\u001b[0mstats\u001b[0m\u001b[1;33m.\u001b[0m\u001b[0mpearsonr\u001b[0m\u001b[1;33m(\u001b[0m\u001b[0mprop\u001b[0m\u001b[1;33m.\u001b[0m\u001b[0mgain_risk\u001b[0m\u001b[1;33m,\u001b[0m \u001b[0mprop\u001b[0m\u001b[1;33m.\u001b[0m\u001b[0mgain_ambg\u001b[0m\u001b[1;33m)\u001b[0m\u001b[1;33m\u001b[0m\u001b[1;33m\u001b[0m\u001b[0m\n\u001b[0;32m      4\u001b[0m \u001b[0mcorLoss\u001b[0m \u001b[1;33m=\u001b[0m \u001b[0msp\u001b[0m\u001b[1;33m.\u001b[0m\u001b[0mstats\u001b[0m\u001b[1;33m.\u001b[0m\u001b[0mpearsonr\u001b[0m\u001b[1;33m(\u001b[0m\u001b[0mprop\u001b[0m\u001b[1;33m.\u001b[0m\u001b[0mloss_risk\u001b[0m\u001b[1;33m,\u001b[0m \u001b[0mprop\u001b[0m\u001b[1;33m.\u001b[0m\u001b[0mloss_ambg\u001b[0m\u001b[1;33m)\u001b[0m\u001b[1;33m\u001b[0m\u001b[1;33m\u001b[0m\u001b[0m\n\u001b[0;32m      5\u001b[0m \u001b[1;33m\u001b[0m\u001b[0m\n",
      "\u001b[1;32m~\\Anaconda3\\lib\\site-packages\\scipy\\stats\\stats.py\u001b[0m in \u001b[0;36mpearsonr\u001b[1;34m(x, y)\u001b[0m\n\u001b[0;32m   3904\u001b[0m \u001b[1;33m\u001b[0m\u001b[0m\n\u001b[0;32m   3905\u001b[0m     \u001b[1;32mif\u001b[0m \u001b[0mn\u001b[0m \u001b[1;33m<\u001b[0m \u001b[1;36m2\u001b[0m\u001b[1;33m:\u001b[0m\u001b[1;33m\u001b[0m\u001b[1;33m\u001b[0m\u001b[0m\n\u001b[1;32m-> 3906\u001b[1;33m         \u001b[1;32mraise\u001b[0m \u001b[0mValueError\u001b[0m\u001b[1;33m(\u001b[0m\u001b[1;34m'x and y must have length at least 2.'\u001b[0m\u001b[1;33m)\u001b[0m\u001b[1;33m\u001b[0m\u001b[1;33m\u001b[0m\u001b[0m\n\u001b[0m\u001b[0;32m   3907\u001b[0m \u001b[1;33m\u001b[0m\u001b[0m\n\u001b[0;32m   3908\u001b[0m     \u001b[0mx\u001b[0m \u001b[1;33m=\u001b[0m \u001b[0mnp\u001b[0m\u001b[1;33m.\u001b[0m\u001b[0masarray\u001b[0m\u001b[1;33m(\u001b[0m\u001b[0mx\u001b[0m\u001b[1;33m)\u001b[0m\u001b[1;33m\u001b[0m\u001b[1;33m\u001b[0m\u001b[0m\n",
      "\u001b[1;31mValueError\u001b[0m: x and y must have length at least 2."
     ]
    }
   ],
   "source": [
    "corRisk = sp.stats.pearsonr(prop.gain_risk, prop.loss_risk)\n",
    "corAmb = sp.stats.pearsonr(prop.gain_ambg, prop.loss_ambg)\n",
    "corGain = sp.stats.pearsonr(prop.gain_risk, prop.gain_ambg)\n",
    "corLoss = sp.stats.pearsonr(prop.loss_risk, prop.loss_ambg)\n",
    "\n",
    "print('corRisk: ', corRisk, 'corAmb ', corAmb, 'corGain ', corGain, 'corLoss ', corLoss)"
   ]
  },
  {
   "cell_type": "code",
   "execution_count": 136,
   "id": "0fca2402",
   "metadata": {},
   "outputs": [
    {
     "ename": "NameError",
     "evalue": "name 'prop' is not defined",
     "output_type": "error",
     "traceback": [
      "\u001b[1;31m---------------------------------------------------------------------------\u001b[0m",
      "\u001b[1;31mNameError\u001b[0m                                 Traceback (most recent call last)",
      "\u001b[1;32m<ipython-input-136-74794d924c30>\u001b[0m in \u001b[0;36m<module>\u001b[1;34m\u001b[0m\n\u001b[0;32m     11\u001b[0m \u001b[1;31m#sns.scatterplot(x='gain_ambg',y='loss_ambg',data=prop, ax=ax2, #hue = 'Age', palette = colors)\u001b[0m\u001b[1;33m\u001b[0m\u001b[1;33m\u001b[0m\u001b[1;33m\u001b[0m\u001b[0m\n\u001b[0;32m     12\u001b[0m \u001b[1;33m\u001b[0m\u001b[0m\n\u001b[1;32m---> 13\u001b[1;33m \u001b[0msns\u001b[0m\u001b[1;33m.\u001b[0m\u001b[0mregplot\u001b[0m\u001b[1;33m(\u001b[0m\u001b[0mx\u001b[0m\u001b[1;33m=\u001b[0m\u001b[1;34m'gain_risk'\u001b[0m\u001b[1;33m,\u001b[0m\u001b[0my\u001b[0m\u001b[1;33m=\u001b[0m\u001b[1;34m'loss_risk'\u001b[0m\u001b[1;33m,\u001b[0m\u001b[0mdata\u001b[0m\u001b[1;33m=\u001b[0m\u001b[0mprop\u001b[0m\u001b[1;33m,\u001b[0m \u001b[0max\u001b[0m\u001b[1;33m=\u001b[0m\u001b[0max1\u001b[0m\u001b[1;33m,\u001b[0m \u001b[0mscatter\u001b[0m\u001b[1;33m=\u001b[0m\u001b[1;32mFalse\u001b[0m\u001b[1;33m,\u001b[0m \u001b[0mcolor\u001b[0m\u001b[1;33m=\u001b[0m\u001b[1;34m\".1\"\u001b[0m\u001b[1;33m)\u001b[0m\u001b[1;33m\u001b[0m\u001b[1;33m\u001b[0m\u001b[0m\n\u001b[0m\u001b[0;32m     14\u001b[0m \u001b[0msns\u001b[0m\u001b[1;33m.\u001b[0m\u001b[0mregplot\u001b[0m\u001b[1;33m(\u001b[0m\u001b[0mx\u001b[0m\u001b[1;33m=\u001b[0m\u001b[1;34m'gain_ambg'\u001b[0m\u001b[1;33m,\u001b[0m\u001b[0my\u001b[0m\u001b[1;33m=\u001b[0m\u001b[1;34m'loss_ambg'\u001b[0m\u001b[1;33m,\u001b[0m\u001b[0mdata\u001b[0m\u001b[1;33m=\u001b[0m\u001b[0mprop\u001b[0m\u001b[1;33m,\u001b[0m \u001b[0max\u001b[0m\u001b[1;33m=\u001b[0m\u001b[0max2\u001b[0m\u001b[1;33m,\u001b[0m \u001b[0mscatter\u001b[0m\u001b[1;33m=\u001b[0m\u001b[1;32mFalse\u001b[0m\u001b[1;33m,\u001b[0m \u001b[0mcolor\u001b[0m\u001b[1;33m=\u001b[0m\u001b[1;34m\".1\"\u001b[0m\u001b[1;33m)\u001b[0m\u001b[1;33m\u001b[0m\u001b[1;33m\u001b[0m\u001b[0m\n\u001b[0;32m     15\u001b[0m \u001b[1;33m\u001b[0m\u001b[0m\n",
      "\u001b[1;31mNameError\u001b[0m: name 'prop' is not defined"
     ]
    },
    {
     "data": {
      "image/png": "[encoded data removed]",
      "text/plain": [
       "<Figure size 720x720 with 2 Axes>"
      ]
     },
     "metadata": {
      "needs_background": "light"
     },
     "output_type": "display_data"
    }
   ],
   "source": [
    "fig = plt.figure(figsize = (10,10))\n",
    "fig.suptitle('Correlation of Choice Behavior Between Domains', fontsize=16)\n",
    "\n",
    "fig.text(0.5, 0.45, 'Gain', ha='center', fontsize=14)\n",
    "fig.text(0.04, 0.7, 'Loss', va='center', rotation='vertical', fontsize=14)\n",
    "\n",
    "ax1 = fig.add_subplot(221)  \n",
    "ax2 = fig.add_subplot(222)    \n",
    "\n",
    "#sns.scatterplot(x='gain_risk',y='gain_risk',data=prop, ax=ax1, #hue = 'Age', palette = colors)\n",
    "#sns.scatterplot(x='gain_ambg',y='loss_ambg',data=prop, ax=ax2, #hue = 'Age', palette = colors)\n",
    "\n",
    "sns.regplot(x='gain_risk',y='loss_risk',data=prop, ax=ax1, scatter=False, color=\".1\")\n",
    "sns.regplot(x='gain_ambg',y='loss_ambg',data=prop, ax=ax2, scatter=False, color=\".1\")\n",
    "\n",
    "\n",
    "ax1.set(xlabel='Choice Proportion', ylabel='Choice Proportion', title='Risky Trials')\n",
    "ax2.set(xlabel='Choice Proportion', ylabel=None, title='Ambiguous Trials (corrected)')\n",
    "\n",
    "#ax1.legend_.remove()\n",
    "#ax2.legend_.remove()\n",
    "\n",
    "## create colorbar ##\n",
    "#divider = make_axes_locatable(plt.gca())\n",
    "#ax_cb = divider.new_horizontal(size=\"5%\", pad=0.05)\n",
    "#fig.add_axes(ax_cb)\n",
    "#cb1 = matplotlib.colorbar.ColorbarBase(ax_cb, cmap=cmap,\n",
    " #                               norm=norm,\n",
    " #                               orientation='vertical')\n",
    "#cb1.set_label('Age')\n",
    "plt.show()"
   ]
  },
  {
   "cell_type": "code",
   "execution_count": 113,
   "id": "f093594f",
   "metadata": {},
   "outputs": [
    {
     "data": {
      "image/png": "[encoded data removed]",
      "text/plain": [
       "<Figure size 720x720 with 2 Axes>"
      ]
     },
     "metadata": {
      "needs_background": "light"
     },
     "output_type": "display_data"
    }
   ],
   "source": [
    "fig = plt.figure(figsize = (10,10))\n",
    "fig.suptitle('Correlation of Choice Behavior Between Domains', fontsize=16)\n",
    "\n",
    "fig.text(0.5, 0.45, 'Risk', ha='center', fontsize=14)\n",
    "fig.text(0.04, 0.7, 'Ambiguity', va='center', rotation='vertical', fontsize=14)\n",
    "\n",
    "ax1 = fig.add_subplot(221)  \n",
    "ax2 = fig.add_subplot(222)\n",
    "\n",
    "#sns.scatterplot(x='gain_risk',y='gain_ambg',data=prop, ax=ax1, #hue = 'Age', palette = colors)\n",
    "#sns.scatterplot(x='loss_risk',y='loss_ambg',data=prop, ax=ax2, #hue = 'Age', palette = colors)\n",
    "\n",
    "\n",
    "sns.regplot(x='gain_risk',y='gain_ambg',data=prop, ax=ax1, scatter=False, color=\".1\")\n",
    "sns.regplot(x='loss_risk',y='loss_ambg',data=prop, ax=ax2, scatter=False, color=\".1\")\n",
    "\n",
    "\n",
    "ax1.set(xlabel='Choice Proportion', ylabel='Choice Proportion corrected', title='Gain')\n",
    "ax2.set(xlabel='Choice Proportion', ylabel=None, title='Loss')\n",
    "\n",
    "#ax1.legend_.remove()\n",
    "#ax2.legend_.remove()\n",
    "\n",
    "## create colorbar ##\n",
    "#divider = make_axes_locatable(plt.gca())\n",
    "#ax_cb = divider.new_horizontal(size=\"5%\", pad=0.05)\n",
    "#fig.add_axes(ax_cb)\n",
    "#cb1 = matplotlib.colorbar.ColorbarBase(ax_cb, cmap=cmap,\n",
    " #                               norm=norm,\n",
    " #                               orientation='vertical')\n",
    "#cb1.set_label('Age')\n",
    "plt.show()\n"
   ]
  },
  {
   "cell_type": "code",
   "execution_count": 133,
   "id": "54295af8",
   "metadata": {},
   "outputs": [
    {
     "data": {
      "text/html": [
       "<div>\n",
       "<style scoped>\n",
       "    .dataframe tbody tr th:only-of-type {\n",
       "        vertical-align: middle;\n",
       "    }\n",
       "\n",
       "    .dataframe tbody tr th {\n",
       "        vertical-align: top;\n",
       "    }\n",
       "\n",
       "    .dataframe thead th {\n",
       "        text-align: right;\n",
       "    }\n",
       "</style>\n",
       "<table border=\"1\" class=\"dataframe\">\n",
       "  <thead>\n",
       "    <tr style=\"text-align: right;\">\n",
       "      <th></th>\n",
       "      <th>Unnamed: 0</th>\n",
       "      <th>choice</th>\n",
       "      <th>value</th>\n",
       "      <th>risk</th>\n",
       "      <th>ambiguity</th>\n",
       "      <th>sub</th>\n",
       "      <th>catch</th>\n",
       "    </tr>\n",
       "  </thead>\n",
       "  <tbody>\n",
       "    <tr>\n",
       "      <th>0</th>\n",
       "      <td>0</td>\n",
       "      <td>0.0</td>\n",
       "      <td>4</td>\n",
       "      <td>0.50</td>\n",
       "      <td>0.00</td>\n",
       "      <td>10</td>\n",
       "      <td>0</td>\n",
       "    </tr>\n",
       "    <tr>\n",
       "      <th>1</th>\n",
       "      <td>1</td>\n",
       "      <td>1.0</td>\n",
       "      <td>61</td>\n",
       "      <td>0.75</td>\n",
       "      <td>0.00</td>\n",
       "      <td>10</td>\n",
       "      <td>0</td>\n",
       "    </tr>\n",
       "    <tr>\n",
       "      <th>2</th>\n",
       "      <td>2</td>\n",
       "      <td>0.0</td>\n",
       "      <td>6</td>\n",
       "      <td>0.50</td>\n",
       "      <td>0.50</td>\n",
       "      <td>10</td>\n",
       "      <td>0</td>\n",
       "    </tr>\n",
       "    <tr>\n",
       "      <th>3</th>\n",
       "      <td>3</td>\n",
       "      <td>0.0</td>\n",
       "      <td>16</td>\n",
       "      <td>0.50</td>\n",
       "      <td>0.24</td>\n",
       "      <td>10</td>\n",
       "      <td>0</td>\n",
       "    </tr>\n",
       "    <tr>\n",
       "      <th>4</th>\n",
       "      <td>4</td>\n",
       "      <td>0.0</td>\n",
       "      <td>7</td>\n",
       "      <td>0.25</td>\n",
       "      <td>0.00</td>\n",
       "      <td>10</td>\n",
       "      <td>0</td>\n",
       "    </tr>\n",
       "  </tbody>\n",
       "</table>\n",
       "</div>"
      ],
      "text/plain": [
       "   Unnamed: 0  choice  value  risk  ambiguity  sub  catch\n",
       "0           0     0.0      4  0.50       0.00   10      0\n",
       "1           1     1.0     61  0.75       0.00   10      0\n",
       "2           2     0.0      6  0.50       0.50   10      0\n",
       "3           3     0.0     16  0.50       0.24   10      0\n",
       "4           4     0.0      7  0.25       0.00   10      0"
      ]
     },
     "execution_count": 133,
     "metadata": {},
     "output_type": "execute_result"
    }
   ],
   "source": [
    "db_gain.head()"
   ]
  },
  {
   "cell_type": "code",
   "execution_count": 56,
   "id": "976e7d4b",
   "metadata": {},
   "outputs": [],
   "source": [
    "#choice_age = db_mon[db_mon.value > 5].groupby('sub').sum('choice')\n",
    "#choice_age = choice_age.merge(age, left_on='sub', right_on='sub')\n",
    "#choice_age = choice_age.dropna()\n",
    "#choice_age.head()"
   ]
  }
 ],
 "metadata": {
  "kernelspec": {
   "display_name": "Python 3",
   "language": "python",
   "name": "python3"
  },
  "language_info": {
   "codemirror_mode": {
    "name": "ipython",
    "version": 3
   },
   "file_extension": ".py",
   "mimetype": "text/x-python",
   "name": "python",
   "nbconvert_exporter": "python",
   "pygments_lexer": "ipython3",
   "version": "3.8.8"
  }
 },
 "nbformat": 4,
 "nbformat_minor": 5
}
